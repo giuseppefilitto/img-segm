{
 "cells": [
  {
   "cell_type": "code",
   "execution_count": null,
   "source": [
    "import sys, os\n",
    "sys.path.append('../')\n",
    "\n",
    "from MRIsegm.utils import get_slices, get_slices_info, get_rois, explore_slices, explore_roi, make_mask, mask_slices"
   ],
   "outputs": [],
   "metadata": {}
  },
  {
   "cell_type": "code",
   "execution_count": null,
   "source": [
    "src = '/Users/giuseppefilitto/Pazienti_anonym_sorted/'\n",
    "patient = 'BO1'\n",
    "dir_path =  src + patient + '/T2AX'\n",
    "\n",
    "slices = get_slices(dir_path=dir_path) \n",
    "\n",
    "get_slices_info(slices=slices)"
   ],
   "outputs": [],
   "metadata": {}
  },
  {
   "cell_type": "code",
   "execution_count": null,
   "source": [
    "roi_path = src + patient + 'T2ROI'\n",
    "\n",
    "rois = get_rois(roi_path=roi_path) \n",
    "positions = [rois[i].get('position') - 1 for i in range(len(rois))]\n",
    "\n",
    "# set(positions) to have unique values\n",
    "print(f\"number of masks = {len(set(positions))}\")\n",
    "\n",
    "slices_of_mask = mask_slices(slices=slices, rois=rois)\n",
    "\n",
    "from random import choice\n",
    "\n",
    "layer = choice(positions)\n",
    "explore_slices(slices=slices_of_mask, layer=layer)"
   ],
   "outputs": [],
   "metadata": {}
  },
  {
   "cell_type": "code",
   "execution_count": null,
   "source": [
    "import simpleITK as stik\n",
    "\n",
    "dst = src + patient + '/MASKdcm'\n",
    "\n",
    "if not os.path.exists(dst):\n",
    "    os.makedirs(dst)\n",
    "\n",
    "for i in range(slices_of_mask.shape[0]):\n",
    "    img = sitk.GetImageFromArray(slices_of_mask[i, : ,:])\n",
    "    sitk.WriteImage(img, dst + patient + '_layer_' + str(i)\".dcm\")"
   ],
   "outputs": [],
   "metadata": {}
  }
 ],
 "metadata": {
  "kernelspec": {
   "display_name": "Python 3.9.1 64-bit ('base': conda)",
   "name": "python391jvsc74a57bd0b006050eb1e698e71d69e874d7b73cfc81eadd7038d8c48e3a55c8dc4f112791"
  },
  "language_info": {
   "name": "python",
   "version": ""
  },
  "metadata": {
   "interpreter": {
    "hash": "b006050eb1e698e71d69e874d7b73cfc81eadd7038d8c48e3a55c8dc4f112791"
   }
  },
  "orig_nbformat": 2
 },
 "nbformat": 4,
 "nbformat_minor": 2
}