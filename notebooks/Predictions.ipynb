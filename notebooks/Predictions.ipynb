{
 "cells": [
  {
   "cell_type": "markdown",
   "metadata": {},
   "source": [
    "# Models predictions"
   ]
  },
  {
   "cell_type": "code",
   "execution_count": 2,
   "metadata": {},
   "outputs": [],
   "source": [
    "import sys, os, glob\n",
    "sys.path.append('../')\n",
    "\n",
    "import numpy as np\n",
    "import matplotlib.pyplot as plt \n",
    "from mpl_toolkits.axes_grid1.inset_locator import inset_axes\n",
    "\n",
    "import tensorflow as tf\n",
    "\n",
    "from MRIsegm.metrics import dice_coef\n",
    "from MRIsegm.losses import DiceBCEloss, soft_dice_loss\n",
    "from MRIsegm.methods import create_segmentation_generator, show_dataset, show_prediction\n",
    "from tensorflow.keras.models import load_model"
   ]
  },
  {
   "cell_type": "markdown",
   "metadata": {},
   "source": [
    "### Constants"
   ]
  },
  {
   "cell_type": "code",
   "execution_count": 3,
   "metadata": {},
   "outputs": [],
   "source": [
    "SEED = 3\n",
    "\n",
    "IMAGE_HEIGHT = 128\n",
    "IMAGE_WIDTH =  128\n",
    "IMG_SIZE = (IMAGE_HEIGHT, IMAGE_WIDTH)\n",
    "\n",
    "data_dir_validation = '../data/validation'\n",
    "data_dir_validation_img = os.path.join(data_dir_validation, 'img')\n",
    "data_dir_validation_mask = os.path.join(data_dir_validation, 'mask')\n",
    "\n",
    "data_dir_training = '../data/training'\n",
    "data_dir_train_img = os.path.join(data_dir_training, 'img')\n",
    "data_dir_train_mask = os.path.join(data_dir_training, 'mask')\n",
    "\n",
    "models_dir = '../data/models'\n",
    "models_path = glob.glob(models_dir + '/*.h5')\n",
    "\n",
    "dependencies = {\n",
    "    'DiceBCEloss': DiceBCEloss,\n",
    "    'dice_coef': dice_coef,\n",
    "    'soft_dice_loss':soft_dice_loss\n",
    "    \n",
    "}\n",
    "\n",
    "keys = [ os.path.splitext(os.path.split(models_path[i])[1])[0] for i, mod in enumerate(models_path)]\n",
    "values = [ load_model(models_path[i], custom_objects=dependencies) for i, mod in enumerate(models_path)]\n",
    "\n",
    "models = dict(zip(keys, values))\n"
   ]
  },
  {
   "cell_type": "code",
   "execution_count": 19,
   "metadata": {},
   "outputs": [],
   "source": [
    "def display_predictions(display_list, keys, colormap=True, cmap='gist_heat',figsize=(25,15) ):\n",
    "    plt.figure(figsize=figsize, constrained_layout=True)\n",
    "    title = ['True Mask'] + keys\n",
    "    for i in range(len(display_list)):\n",
    "        plt.subplot(1, len(display_list), i+1)\n",
    "        \n",
    "        plt.title(title[i])\n",
    "        if i >= 1 and colormap==True:\n",
    "            ax = plt.gca()\n",
    "            \n",
    "            im = ax.imshow((display_list[i]), cmap=cmap, vmin=0.0, vmax=1.0)\n",
    "            if i == len(display_list) - 1:\n",
    "\n",
    "                axins = inset_axes(ax, width = \"5%\", height = \"100%\", loc = 'lower left',\n",
    "                    bbox_to_anchor = (1.02, 0., 1, 1), bbox_transform = ax.transAxes,\n",
    "                    borderpad = 0)\n",
    "                \n",
    "                plt.colorbar(im, cax=axins)\n",
    "            \n",
    "        else:\n",
    "            plt.imshow(tf.keras.preprocessing.image.array_to_img(display_list[i]), cmap='gray') # optional: tf.keras.preprocessing.image.array_to_img, just to rescale from 0.-1. to 0-255\n",
    "    \n",
    "    plt.show()"
   ]
  },
  {
   "cell_type": "code",
   "execution_count": 20,
   "metadata": {},
   "outputs": [],
   "source": [
    "def show_multiple_predictions(datagen, keys, values, num=1, colormap=True, cmap='gist_heat', figsize=(25,15)):\n",
    "    for i in range(0, num):\n",
    "        image, mask = next(datagen)\n",
    "        \n",
    "        pred_masks = [model.predict(image) for model in values]\n",
    "        disp_list = [mask[0]]+[pred_masks[j][0] for j in range(len(pred_masks)) ]\n",
    "        display_predictions( disp_list, keys, colormap, cmap, figsize)\n",
    "        plt.show()"
   ]
  },
  {
   "cell_type": "code",
   "execution_count": null,
   "metadata": {},
   "outputs": [],
   "source": [
    "data_gen_args_img = data_gen_args_mask = dict(rescale=1./255)\n",
    "\n",
    "validation_generator = create_segmentation_generator(data_dir_validation_img, data_dir_validation_mask, 1, IMG_SIZE, SEED, data_gen_args_img, data_gen_args_mask)\n",
    "\n",
    "training_generator = create_segmentation_generator(data_dir_train_img, data_dir_train_mask, 1, IMG_SIZE, SEED, data_gen_args_img, data_gen_args_mask)"
   ]
  },
  {
   "cell_type": "code",
   "execution_count": null,
   "metadata": {},
   "outputs": [],
   "source": [
    "show_multiple_predictions(training_generator, keys, values, 15, cmap='magma')"
   ]
  },
  {
   "cell_type": "code",
   "execution_count": null,
   "metadata": {},
   "outputs": [],
   "source": [
    "show_multiple_predictions(validation_generator, keys, values, 15, cmap='magma')"
   ]
  },
  {
   "cell_type": "code",
   "execution_count": 17,
   "metadata": {},
   "outputs": [],
   "source": [
    "def display_overlap(display_list, keys, colormap=True, cmap='gist_heat', figsize=(25,15)):\n",
    "    plt.figure(figsize=figsize, constrained_layout=True)\n",
    "    title = ['True Mask'] + keys\n",
    "    for i in range(1, len(display_list)):\n",
    "        plt.subplot(1, len(display_list), i+1)\n",
    "        \n",
    "        plt.title(title[i-1])\n",
    "        if i >= 2 and colormap==True:\n",
    "            ax = plt.gca()\n",
    "            \n",
    "            im_0 = ax.imshow(display_list[0], cmap='gray', vmin=0.0, vmax=1.0)\n",
    "            \n",
    "            display_list[i][display_list[i] <= 0.05 ] = np.nan\n",
    "        \n",
    "            im = ax.imshow(display_list[i], cmap=cmap, vmin=0.0, vmax=1.0, alpha=0.75)\n",
    "            \n",
    "\n",
    "            if i == len(display_list) - 1:\n",
    "\n",
    "                axins = inset_axes(ax, width = \"5%\", height = \"100%\", loc = 'lower left',\n",
    "                    bbox_to_anchor = (1.02, 0., 1, 1), bbox_transform = ax.transAxes,\n",
    "                    borderpad = 0)\n",
    "                \n",
    "                plt.colorbar(im, cax=axins)\n",
    "            \n",
    "        else:\n",
    "            plt.imshow(tf.keras.preprocessing.image.array_to_img(display_list[i] + display_list[0]), cmap='gray') \n",
    "            # optional: tf.keras.preprocessing.image.array_to_img, just to rescale from 0.-1. to 0-255\n",
    "    \n",
    "    plt.show()\n",
    "\n",
    "def show_multiple_overlap(datagen, keys, values, num=1, colormap=True, cmap='gray', figsize=(25,15)):\n",
    "    for i in range(0, num):\n",
    "        image, mask = next(datagen)\n",
    "        \n",
    "        pred_masks = [model.predict(image) for model in values]\n",
    "        disp_list =  [image[0]]+ [mask[0]] + [ pred_masks[j][0] for j in range(len(pred_masks)) ]\n",
    "        display_overlap( disp_list, keys, colormap, cmap, figsize)\n",
    "        plt.show()    "
   ]
  },
  {
   "cell_type": "code",
   "execution_count": null,
   "metadata": {},
   "outputs": [],
   "source": [
    "show_multiple_overlap(training_generator, keys, values, 15, cmap='magma')"
   ]
  },
  {
   "cell_type": "code",
   "execution_count": null,
   "metadata": {},
   "outputs": [],
   "source": [
    "show_multiple_overlap(validation_generator, keys, values, 15, cmap='magma')"
   ]
  }
 ],
 "metadata": {
  "kernelspec": {
   "display_name": "Python 3.8.6 64-bit ('tensorflow': conda)",
   "name": "python386jvsc74a57bd0f9d93fbf5f19ccc2cddbe34694f7f49306bad9b2cdca2175ce5bcebb4e48816e"
  },
  "language_info": {
   "codemirror_mode": {
    "name": "ipython",
    "version": 3
   },
   "file_extension": ".py",
   "mimetype": "text/x-python",
   "name": "python",
   "nbconvert_exporter": "python",
   "pygments_lexer": "ipython3",
   "version": "3.8.6"
  },
  "metadata": {
   "interpreter": {
    "hash": "f9d93fbf5f19ccc2cddbe34694f7f49306bad9b2cdca2175ce5bcebb4e48816e"
   }
  },
  "orig_nbformat": 2
 },
 "nbformat": 4,
 "nbformat_minor": 2
}