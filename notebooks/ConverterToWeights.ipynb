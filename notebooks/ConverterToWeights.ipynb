{
 "cells": [
  {
   "cell_type": "code",
   "execution_count": 1,
   "metadata": {},
   "outputs": [
    {
     "name": "stdout",
     "output_type": "stream",
     "text": [
      "Segmentation Models: using `keras` framework.\n"
     ]
    }
   ],
   "source": [
    "import sys, os, glob\n",
    "sys.path.append('../')\n",
    "\n",
    "import tensorflow as tf\n",
    "from tensorflow.keras.models import model_from_json\n",
    "\n",
    "from MRIsegm.metrics import dice_coef\n",
    "from segmentation_models.losses import DiceLoss, BinaryFocalLoss"
   ]
  },
  {
   "cell_type": "code",
   "execution_count": 3,
   "metadata": {},
   "outputs": [],
   "source": [
    "models_dir = '../data/models'\n",
    "models_path = glob.glob(models_dir + '/*full_150E_O*focal*.h5')\n",
    "\n",
    "dice_loss = DiceLoss()\n",
    "focal_loss = BinaryFocalLoss()\n",
    "loss = dice_loss + (1 * focal_loss)\n",
    "\n",
    "dependencies = {\n",
    "    'dice_coef': dice_coef,\n",
    "    'FixedDropout': tf.keras.layers.Dropout(0.2),\n",
    "    'dice_loss': dice_loss,\n",
    "    'dice_loss_plus_1binary_focal_loss': loss\n",
    "\n",
    "}"
   ]
  },
  {
   "cell_type": "code",
   "execution_count": 4,
   "metadata": {},
   "outputs": [],
   "source": [
    "models_name = [ os.path.splitext(os.path.split(models_path[i])[1])[0] for i, mod in enumerate(models_path)]\n",
    "models_loaded = [ tf.keras.models.load_model(models_path[i], custom_objects=dependencies) for i, mod in enumerate(models_path)]"
   ]
  },
  {
   "cell_type": "code",
   "execution_count": 5,
   "metadata": {},
   "outputs": [
    {
     "name": "stderr",
     "output_type": "stream",
     "text": [
      "/Users/giuseppefilitto/miniforge3/envs/tf2.5/lib/python3.9/site-packages/tensorflow/python/keras/utils/generic_utils.py:494: CustomMaskWarning: Custom mask layers require a config and must override get_config. When loading, the custom mask layer must be passed to the custom_objects argument.\n",
      "  warnings.warn('Custom mask layers require a config and must override '\n"
     ]
    }
   ],
   "source": [
    "import json\n",
    "weights_dir = '../data/models/weights'\n",
    "\n",
    "for k, mod in enumerate(models_loaded):\n",
    "\n",
    "    model_architecture = mod.to_json()\n",
    "\n",
    "    with open(weights_dir + '/' + models_name[k] + \".json\", \"w\") as file:\n",
    "        json.dump(model_architecture, file)\n",
    "\n",
    "    output = weights_dir + '/' + models_name[k] + '_weights.h5'\n",
    "    mod.save_weights(output)"
   ]
  }
 ],
 "metadata": {
  "interpreter": {
   "hash": "01b320e374bb0e9c71bdb57ca898167d128c846c10b4779fe2b1301cb538ef2f"
  },
  "kernelspec": {
   "display_name": "Python 3.9.5 64-bit ('tf2.5': conda)",
   "name": "python3"
  },
  "language_info": {
   "codemirror_mode": {
    "name": "ipython",
    "version": 3
   },
   "file_extension": ".py",
   "mimetype": "text/x-python",
   "name": "python",
   "nbconvert_exporter": "python",
   "pygments_lexer": "ipython3",
   "version": "3.9.5"
  },
  "orig_nbformat": 4
 },
 "nbformat": 4,
 "nbformat_minor": 2
}
