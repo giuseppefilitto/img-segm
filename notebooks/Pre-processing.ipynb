{
 "cells": [
  {
   "cell_type": "markdown",
   "metadata": {},
   "source": [
    "# Pre-processing"
   ]
  },
  {
   "cell_type": "code",
   "execution_count": 1,
   "metadata": {},
   "outputs": [],
   "source": [
    "import sys, os, glob, shutil\n",
    "sys.path.append('../')\n",
    "\n",
    "from MRIsegm.utils import get_slice, get_slice_info, get_rois, make_mask, mask_slice\n",
    "from MRIsegm.processing import denoise_slice\n",
    "\n",
    "from PIL import Image\n",
    "from tqdm.notebook import trange\n",
    "\n"
   ]
  },
  {
   "cell_type": "markdown",
   "metadata": {},
   "source": [
    "## Loading Data"
   ]
  },
  {
   "cell_type": "code",
   "execution_count": 2,
   "metadata": {},
   "outputs": [
    {
     "name": "stdout",
     "output_type": "stream",
     "text": [
      "Number of good patients: 36\n"
     ]
    }
   ],
   "source": [
    "src = '/Users/giuseppefilitto/Pazienti_anonym_sorted'\n",
    "\n",
    "patients = os.listdir(src)\n",
    "if '.DS_Store' in patients:\n",
    "    patients.remove('.DS_Store')\n",
    "\n",
    "bad_patients = [ 'BO9', 'BO17', 'BO28', 'BO36', 'BO37', 'BO39', 'BO40', 'BO54', 'BO72', 'BO77', 'BO86']\n",
    "\n",
    "good_patients = list(set(patients) - set(bad_patients))\n",
    "\n",
    "# ! Removing for test\n",
    "good_patients.remove('BO38')\n",
    "print(\"Number of good patients:\",len(good_patients))"
   ]
  },
  {
   "cell_type": "markdown",
   "metadata": {},
   "source": [
    "## Saving Train and Test images"
   ]
  },
  {
   "cell_type": "markdown",
   "metadata": {},
   "source": [
    "### Training"
   ]
  },
  {
   "cell_type": "code",
   "execution_count": 3,
   "metadata": {},
   "outputs": [
    {
     "data": {
      "application/vnd.jupyter.widget-view+json": {
       "model_id": "3ae07970e3e74b159df75bbba6321158",
       "version_major": 2,
       "version_minor": 0
      },
      "text/plain": "Progress:   0%|          | 0/36 [00:00<?, ?it/s]"
     },
     "metadata": {},
     "output_type": "display_data"
    },
    {
     "name": "stdout",
     "output_type": "stream",
     "text": [
      "patient: BO75, BO56, BO78, BO90, BO74, BO52, BO64, BO66, BO18, BO68, BO51, BO48, BO2, BO43, BO31, BO85, BO47, BO42, BO45, BO26, BO49, BO61, BO1, BO11, BO16, BO71, BO63, BO82, BO35, BO60, BO44, BO32, BO76, BO29, BO33, BO50."
     ]
    }
   ],
   "source": [
    "progress_bar = trange(len(good_patients), desc=\"Progress\")\n",
    "\n",
    "for z, patient in enumerate(good_patients):\n",
    "\n",
    "    #! slices\n",
    "    folder = 'T2'\n",
    "    slice_path = os.path.join(src, patient, folder)\n",
    "\n",
    "    if not os.path.isdir(slice_path):\n",
    "        slice_path =  slice_path + \"AX\"\n",
    "\n",
    "        if not os.path.isdir(slice_path):\n",
    "            slice_path = os.path.join(src, patient, 'T25mm')\n",
    "\n",
    "            if not os.path.isdir(slice_path):\n",
    "                slice_path = os.path.join(src, patient, 't2DEF')\n",
    "\n",
    "    if z == 0:\n",
    "        if len(good_patients) > 1:\n",
    "            print(f'patient: {patient}', end=', ', flush=True )\n",
    "        else:\n",
    "            print(f'patient: {patient}', end='.', flush=True )\n",
    "\n",
    "    elif z == len(good_patients) - 1 and len(good_patients) > 1:\n",
    "        print(f'{patient}', end='.', flush=True )\n",
    "    else:\n",
    "        print(f'{patient}', end=', ', flush=True )\n",
    "\n",
    "    slice_raw = get_slice(dir_path=slice_path)  \n",
    "\n",
    "    alpha = 5\n",
    "    slice = denoise_slice(slice_raw, alpha = alpha)\n",
    "\n",
    "    roi_folder = 'T2ROI'\n",
    "    roi_path = os.path.join(src, patient, roi_folder)\n",
    "\n",
    "    #! ROIS\n",
    "    roi = get_rois(roi_path=roi_path)\n",
    "    \n",
    "\n",
    "    slice_of_masks = mask_slice(slice=slice, rois=roi)\n",
    "    \n",
    "\n",
    "    positions = [roi[j].get('position') - 1 for j in range(len(roi))]\n",
    "\n",
    "    \n",
    "    for i in set(positions):\n",
    "\n",
    "        img = Image.fromarray(slice[i, : ,:])\n",
    "        filename = patient + '_layer_' + str(i) + '.png'\n",
    "        dst = '../data/training/img/img'\n",
    "        output =  os.path.join(dst, filename)\n",
    "\n",
    "        if os.path.isfile(output):\n",
    "            os.remove(output)\n",
    "        \n",
    "        img.save(output)\n",
    "\n",
    "        mask = Image.fromarray(slice_of_masks[i, : ,:])\n",
    "        filename = patient + '_mask_' + str(i) + '.png'\n",
    "        dst = '../data/training/mask/img'\n",
    "        output =  os.path.join(dst, filename)\n",
    "        if os.path.isfile(output):\n",
    "            os.remove(output)\n",
    "\n",
    "        mask.save(output)\n",
    " \n",
    "    progress_bar.update(1)    \n",
    "\n",
    "progress_bar.close()    "
   ]
  },
  {
   "cell_type": "code",
   "execution_count": 4,
   "metadata": {},
   "outputs": [
    {
     "name": "stdout",
     "output_type": "stream",
     "text": [
      "patient: BO38 folder: T2AXAlta, folder: T2AXBassa."
     ]
    }
   ],
   "source": [
    "special_patients = ['BO38']\n",
    "\n",
    "for z, patient in enumerate(special_patients):\n",
    "   \n",
    "    folders = ['T2AXAlta', 'T2AXBassa']\n",
    "    roi_folders = ['T2ROIalta', 'T2ROIbassa']\n",
    "\n",
    "    print(f'patient: {patient}', end=' ', flush=True )\n",
    "        \n",
    "    for k in range(len(folders)):\n",
    "\n",
    "        slice_path = os.path.join(src, patient, folders[k])\n",
    "\n",
    "        if k == len(folders) - 1:\n",
    "            print(f'{folders[k]}', end='.', flush=True )\n",
    "        else:\n",
    "            print(f'folder: {folders[k]}', end=', ', flush=True )\n",
    "\n",
    "\n",
    "        slice_raw = get_slice(dir_path=slice_path)  \n",
    "\n",
    "        alpha = 5\n",
    "        slice = denoise_slice(slice_raw, alpha = alpha)\n",
    " \n",
    "        roi_path = os.path.join(src, patient, roi_folders[k])\n",
    "\n",
    "        #! ROIS\n",
    "        roi = get_rois(roi_path=roi_path)\n",
    "        \n",
    "        slice_of_masks = mask_slice(slice=slice, rois=roi)\n",
    "        \n",
    "        positions = [roi[j].get('position') - 1 for j in range(len(roi))]\n",
    "     \n",
    "        for i in set(positions):\n",
    "\n",
    "            img = Image.fromarray(slice[i, : , :])\n",
    "            filename = patient + '_' + str(folders[k]) + '_layer_' + str(i) + '.png'\n",
    "            dst = '../data/training/img/img'\n",
    "            output =  os.path.join(dst, filename)\n",
    "\n",
    "            if os.path.isfile(output):\n",
    "                os.remove(output)\n",
    "            \n",
    "            img.save(output)\n",
    "\n",
    "            mask = Image.fromarray(slice_of_masks[i, : , :])\n",
    "            filename = patient + '_' + str(roi_folders[k]) + '_mask_' + str(i) + '.png'\n",
    "            dst = '../data/training/mask/img'\n",
    "            output =  os.path.join(dst, filename)\n",
    "            if os.path.isfile(output):\n",
    "                os.remove(output)\n",
    "\n",
    "            mask.save(output)\n",
    "\n"
   ]
  },
  {
   "cell_type": "code",
   "execution_count": 5,
   "metadata": {},
   "outputs": [
    {
     "name": "stdout",
     "output_type": "stream",
     "text": [
      "before validation split: 486\n",
      "validation images: 42\n",
      "Training images after split: 444\n"
     ]
    }
   ],
   "source": [
    "train_dir = '../data/training/img/img'\n",
    "train_files = glob.glob(train_dir + '/*.png')\n",
    "\n",
    "mask_dir = '../data/training/mask/img'\n",
    "mask_files = glob.glob(mask_dir + '/*.png')\n",
    "\n",
    "\n",
    "\n",
    "# ! validation\n",
    "validation_dir = '../data/validation/img/img'\n",
    "mask_validation_dir = '../data/validation/mask/img'\n",
    "\n",
    "n_validation = 42\n",
    "\n",
    "print(\"before validation split:\", len(train_files))\n",
    "print(\"validation images:\", n_validation)\n",
    "print(\"Training images after split:\", len(train_files) - n_validation)"
   ]
  },
  {
   "cell_type": "markdown",
   "metadata": {},
   "source": [
    "### Validation"
   ]
  },
  {
   "cell_type": "code",
   "execution_count": 6,
   "metadata": {},
   "outputs": [],
   "source": [
    "for i in range(n_validation):\n",
    "    \n",
    "    dir, file = os.path.split(train_files[i])\n",
    "    validation_img = os.path.join(validation_dir, file)\n",
    "\n",
    "    img = train_files[i]\n",
    "    if os.path.isfile(validation_img):\n",
    "        os.remove(validation_img)\n",
    "\n",
    "    shutil.move(img, validation_img)\n",
    "\n",
    "    mask_dir = '../data/training/mask/img'\n",
    "    mask_file = file.replace('_layer_','_mask_')\n",
    "    \n",
    "    mask = os.path.join(mask_dir, mask_file)\n",
    "    mask_validation = os.path.join(mask_validation_dir, mask_file)\n",
    "    if os.path.isfile(mask_validation):\n",
    "        os.remove(mask_validation)\n",
    "\n",
    "    shutil.move(mask, mask_validation)"
   ]
  },
  {
   "cell_type": "markdown",
   "metadata": {},
   "source": [
    "### info"
   ]
  },
  {
   "cell_type": "code",
   "execution_count": 7,
   "metadata": {},
   "outputs": [
    {
     "name": "stdout",
     "output_type": "stream",
     "text": [
      "Training images: 444\n",
      "Validation images: 42\n"
     ]
    }
   ],
   "source": [
    "train_files = glob.glob(train_dir + '/*.png')\n",
    "valid_files = glob.glob(validation_dir + '/*.png')\n",
    "\n",
    "print(\"Training images:\", len(train_files))\n",
    "print(\"Validation images:\", len(valid_files))\n"
   ]
  }
 ],
 "metadata": {
  "kernelspec": {
   "display_name": "Python 3.9.1 64-bit ('miniforge3': conda)",
   "name": "python391jvsc74a57bd0b006050eb1e698e71d69e874d7b73cfc81eadd7038d8c48e3a55c8dc4f112791"
  },
  "language_info": {
   "codemirror_mode": {
    "name": "ipython",
    "version": 3
   },
   "file_extension": ".py",
   "mimetype": "text/x-python",
   "name": "python",
   "nbconvert_exporter": "python",
   "pygments_lexer": "ipython3",
   "version": "3.9.1"
  },
  "metadata": {
   "interpreter": {
    "hash": "b006050eb1e698e71d69e874d7b73cfc81eadd7038d8c48e3a55c8dc4f112791"
   }
  },
  "orig_nbformat": 2
 },
 "nbformat": 4,
 "nbformat_minor": 2
}