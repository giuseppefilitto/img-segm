{
 "cells": [
  {
   "cell_type": "markdown",
   "metadata": {},
   "source": [
    "# Pre-processing"
   ]
  },
  {
   "cell_type": "code",
   "execution_count": 1,
   "metadata": {},
   "outputs": [],
   "source": [
    "import sys, os, glob, shutil\n",
    "sys.path.append('../')\n",
    "\n",
    "from MRIsegm.utils import get_slice, get_slice_info, get_rois, explore_slice, explore_roi, make_mask, mask_slice\n",
    "from MRIsegm.processing import denoise_slice\n",
    "\n",
    "from PIL import Image\n",
    "from tqdm.notebook import trange\n",
    "\n"
   ]
  },
  {
   "cell_type": "markdown",
   "metadata": {},
   "source": [
    "## Loading Data"
   ]
  },
  {
   "cell_type": "code",
   "execution_count": 2,
   "metadata": {},
   "outputs": [
    {
     "name": "stdout",
     "output_type": "stream",
     "text": [
      "Number of good patients: 36\n"
     ]
    }
   ],
   "source": [
    "src = '/Users/giuseppefilitto/Pazienti_anonym_sorted'\n",
    "\n",
    "patients = os.listdir(src)\n",
    "if '.DS_Store' in patients:\n",
    "    patients.remove('.DS_Store')\n",
    "\n",
    "bad_patients = [ 'BO9', 'BO17', 'BO28', 'BO36', 'BO37', 'BO39', 'BO40', 'BO54', 'BO72', 'BO77', 'BO86']\n",
    "\n",
    "good_patients = list(set(patients) - set(bad_patients))\n",
    "\n",
    "# ! Removing for test\n",
    "good_patients.remove('BO38')\n",
    "print(\"Number of good patients:\",len(good_patients))"
   ]
  },
  {
   "cell_type": "markdown",
   "metadata": {},
   "source": [
    "## Saving Train and Test images"
   ]
  },
  {
   "cell_type": "markdown",
   "metadata": {},
   "source": [
    "### Training"
   ]
  },
  {
   "cell_type": "code",
   "execution_count": 3,
   "metadata": {},
   "outputs": [
    {
     "data": {
      "application/vnd.jupyter.widget-view+json": {
       "model_id": "96e9ccc2a5334bbe824b0e6f78a32038",
       "version_major": 2,
       "version_minor": 0
      },
      "text/plain": "Progress:   0%|          | 0/36 [00:00<?, ?it/s]"
     },
     "metadata": {},
     "output_type": "display_data"
    },
    {
     "name": "stdout",
     "output_type": "stream",
     "text": [
      "patient: BO51, patient: BO76, patient: BO85, patient: BO71, patient: BO78, patient: BO75, patient: BO1, patient: BO33, patient: BO47, patient: BO90, patient: BO74, patient: BO31, patient: BO49, patient: BO45, patient: BO18, patient: BO11, patient: BO42, patient: BO32, patient: BO44, patient: BO50, patient: BO82, patient: BO26, patient: BO56, patient: BO29, patient: BO63, patient: BO66, patient: BO43, patient: BO35, patient: BO16, patient: BO52, patient: BO2, patient: BO60, patient: BO48, patient: BO68, patient: BO64, patient: BO61, "
     ]
    }
   ],
   "source": [
    "progress_bar = trange(len(good_patients), desc=\"Progress\")\n",
    "for patient in good_patients:\n",
    "\n",
    "    #! slices\n",
    "    folder = 'T2'\n",
    "    slice_path = os.path.join(src, patient, folder)\n",
    "\n",
    "    if not os.path.isdir(slice_path):\n",
    "        slice_path =  slice_path + \"AX\"\n",
    "\n",
    "        if not os.path.isdir(slice_path):\n",
    "            slice_path = os.path.join(src, patient, 'T25mm')\n",
    "\n",
    "            if not os.path.isdir(slice_path):\n",
    "                slice_path = os.path.join(src, patient, 't2DEF')\n",
    "\n",
    "\n",
    "    slice_raw = get_slice(dir_path=slice_path)  \n",
    "\n",
    "    alpha = 5\n",
    "    slice = denoise_slice(slice_raw, alpha = alpha)\n",
    "\n",
    "    roi_folder = 'T2ROI'\n",
    "    roi_path = os.path.join(src, patient, roi_folder)\n",
    "\n",
    "    #! ROIS\n",
    "    roi = get_rois(roi_path=roi_path)\n",
    "    \n",
    "\n",
    "    slice_of_masks = mask_slice(slice=slice, rois=roi)\n",
    "    \n",
    "\n",
    "    positions = [roi[j].get('position') - 1 for j in range(len(roi))]\n",
    "\n",
    "    print(f'patient: {patient}', end=', ', flush=True )\n",
    "    for i in set(positions):\n",
    "\n",
    "        img = Image.fromarray(slice[i, : ,:])\n",
    "        filename = patient + '_layer_' + str(i) + '.png'\n",
    "        dst = '../data/training/img/img'\n",
    "        output =  os.path.join(dst, filename)\n",
    "\n",
    "        if os.path.isfile(output):\n",
    "            os.remove(output)\n",
    "        \n",
    "        img.save(output)\n",
    "\n",
    "        mask = Image.fromarray(slice_of_masks[i, : ,:])\n",
    "        filename = patient + '_mask_' + str(i) + '.png'\n",
    "        dst = '../data/training/mask/img'\n",
    "        output =  os.path.join(dst, filename)\n",
    "        if os.path.isfile(output):\n",
    "            os.remove(output)\n",
    "\n",
    "        mask.save(output)\n",
    " \n",
    "    progress_bar.update(1)    \n",
    "\n",
    "progress_bar.close()    "
   ]
  },
  {
   "cell_type": "markdown",
   "metadata": {},
   "source": [
    "### Validation"
   ]
  },
  {
   "cell_type": "code",
   "execution_count": 11,
   "metadata": {},
   "outputs": [
    {
     "name": "stdout",
     "output_type": "stream",
     "text": [
      "Training images: 424\n",
      "validation images: 45\n"
     ]
    }
   ],
   "source": [
    "train_dir = '../data/training/img/img'\n",
    "train_files = glob.glob(train_dir + '/*.png')\n",
    "\n",
    "mask_dir = '../data/training/mask/img'\n",
    "mask_files = glob.glob(mask_dir + '/*.png')\n",
    "\n",
    "\n",
    "\n",
    "# ! validation\n",
    "validation_dir = '../data/validation/img/img'\n",
    "mask_validation_dir = '../data/validation/mask/img'\n",
    "\n",
    "n_validation = 45\n",
    "print(\"Training images:\", len(train_files) - n_validation)\n",
    "print(\"validation images:\", n_validation)\n"
   ]
  },
  {
   "cell_type": "code",
   "execution_count": 12,
   "metadata": {},
   "outputs": [],
   "source": [
    "for i in range(n_validation):\n",
    "    \n",
    "    dir, file = os.path.split(train_files[i])\n",
    "    validation_img = os.path.join(validation_dir, file)\n",
    "\n",
    "    img = train_files[i]\n",
    "    if os.path.isfile(validation_img):\n",
    "        os.remove(validation_img)\n",
    "\n",
    "    shutil.move(img, validation_img)\n",
    "\n",
    "    mask_dir = '../data/training/mask/img'\n",
    "    mask_file = file.replace('_layer_','_mask_')\n",
    "    \n",
    "    mask = os.path.join(mask_dir, mask_file)\n",
    "    mask_validation = os.path.join(mask_validation_dir, mask_file)\n",
    "    if os.path.isfile(mask_validation):\n",
    "        os.remove(mask_validation)\n",
    "\n",
    "    shutil.move(mask, mask_validation)"
   ]
  },
  {
   "cell_type": "markdown",
   "metadata": {},
   "source": [
    "### Test"
   ]
  },
  {
   "cell_type": "code",
   "execution_count": 15,
   "metadata": {},
   "outputs": [
    {
     "name": "stdout",
     "output_type": "stream",
     "text": [
      "patient: BO38 folder: T2AXAlta, patient: BO38 folder: T2AXBassa, "
     ]
    }
   ],
   "source": [
    "test_patients = ['BO38']\n",
    "\n",
    "for patient in test_patients:\n",
    "\n",
    "   \n",
    "    folders = ['T2AXAlta', 'T2AXBassa']\n",
    "    roi_folders = ['T2ROIalta', 'T2ROIbassa']\n",
    "\n",
    "    for k in range(len(folders)):\n",
    "\n",
    "\n",
    "        slice_path = os.path.join(src, patient, folders[k])\n",
    "\n",
    "        slice_raw = get_slice(dir_path=slice_path)  \n",
    "\n",
    "        alpha = 5\n",
    "        slice = denoise_slice(slice_raw, alpha = alpha)\n",
    "\n",
    "        \n",
    "        roi_path = os.path.join(src, patient, roi_folders[k])\n",
    "\n",
    "        #! ROIS\n",
    "        roi = get_rois(roi_path=roi_path)\n",
    "        \n",
    "        slice_of_masks = mask_slice(slice=slice, rois=roi)\n",
    "        \n",
    "\n",
    "        positions = [roi[j].get('position') - 1 for j in range(len(roi))]\n",
    "\n",
    "        print(f'patient: {patient} folder: {folders[k]}', end=', ', flush=True )\n",
    "        for i in set(positions):\n",
    "\n",
    "            img = Image.fromarray(slice[i, : , :])\n",
    "            filename = patient + '_' + str(folders[k]) + '_layer_' + str(i) + '.png'\n",
    "            dst = '../data/test/img/img'\n",
    "            output =  os.path.join(dst, filename)\n",
    "\n",
    "            if os.path.isfile(output):\n",
    "                os.remove(output)\n",
    "            \n",
    "            img.save(output)\n",
    "\n",
    "            mask = Image.fromarray(slice_of_masks[i, : , :])\n",
    "            filename = patient + '_' + str(roi_folders[k]) + '_mask_' + str(i) + '.png'\n",
    "            dst = '../data/test/mask/img'\n",
    "            output =  os.path.join(dst, filename)\n",
    "            if os.path.isfile(output):\n",
    "                os.remove(output)\n",
    "\n",
    "            mask.save(output)\n",
    "\n"
   ]
  }
 ],
 "metadata": {
  "kernelspec": {
   "display_name": "Python 3.9.1 64-bit ('base': conda)",
   "name": "python391jvsc74a57bd0b006050eb1e698e71d69e874d7b73cfc81eadd7038d8c48e3a55c8dc4f112791"
  },
  "language_info": {
   "codemirror_mode": {
    "name": "ipython",
    "version": 3
   },
   "file_extension": ".py",
   "mimetype": "text/x-python",
   "name": "python",
   "nbconvert_exporter": "python",
   "pygments_lexer": "ipython3",
   "version": "3.9.1"
  },
  "metadata": {
   "interpreter": {
    "hash": "b006050eb1e698e71d69e874d7b73cfc81eadd7038d8c48e3a55c8dc4f112791"
   }
  },
  "orig_nbformat": 2
 },
 "nbformat": 4,
 "nbformat_minor": 2
}