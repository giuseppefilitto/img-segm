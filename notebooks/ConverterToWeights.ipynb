{
 "cells": [
  {
   "cell_type": "code",
   "execution_count": 13,
   "source": [
    "import sys, os, glob\n",
    "sys.path.append('../')\n",
    "\n",
    "import tensorflow as tf\n",
    "from tensorflow.keras.models import model_from_json\n",
    "\n",
    "from MRIsegm.metrics import dice_coef\n",
    "from MRIsegm.losses import DiceBCEloss"
   ],
   "outputs": [],
   "metadata": {}
  },
  {
   "cell_type": "code",
   "execution_count": 14,
   "source": [
    "models_dir = '../data/models'\n",
    "\n",
    "\n",
    "models_path = glob.glob(models_dir + '/*.h5')\n",
    "\n",
    "dependencies = {\n",
    "    'DiceBCEloss': DiceBCEloss,\n",
    "    'dice_coef': dice_coef,\n",
    "    'FixedDropout': tf.keras.layers.Dropout(0.2)\n",
    "}"
   ],
   "outputs": [],
   "metadata": {}
  },
  {
   "cell_type": "code",
   "execution_count": 15,
   "source": [
    "models_name = [ os.path.splitext(os.path.split(models_path[i])[1])[0] for i, mod in enumerate(models_path)]\n",
    "models_loaded = [ tf.keras.models.load_model(models_path[i], custom_objects=dependencies) for i, mod in enumerate(models_path)]"
   ],
   "outputs": [],
   "metadata": {}
  },
  {
   "cell_type": "code",
   "execution_count": 23,
   "source": [
    "import json\n",
    "weights_dir = '../data/models/weights'\n",
    "\n",
    "for k, mod in enumerate(models_loaded):\n",
    "\n",
    "    model_architecture = mod.to_json()\n",
    "\n",
    "    with open(weights_dir + '/' + models_name[k] + \".json\", \"w\") as file:\n",
    "        json.dump(model_architecture, file)\n",
    "\n",
    "    output = weights_dir + '/' + models_name[k] + '_weights.h5'\n",
    "    mod.save_weights(output)"
   ],
   "outputs": [
    {
     "output_type": "stream",
     "name": "stderr",
     "text": [
      "/Users/giuseppefilitto/miniforge3/envs/tf2.5/lib/python3.9/site-packages/tensorflow/python/keras/utils/generic_utils.py:494: CustomMaskWarning: Custom mask layers require a config and must override get_config. When loading, the custom mask layer must be passed to the custom_objects argument.\n",
      "  warnings.warn('Custom mask layers require a config and must override '\n"
     ]
    }
   ],
   "metadata": {}
  }
 ],
 "metadata": {
  "orig_nbformat": 4,
  "language_info": {
   "name": "python",
   "version": "3.9.5",
   "mimetype": "text/x-python",
   "codemirror_mode": {
    "name": "ipython",
    "version": 3
   },
   "pygments_lexer": "ipython3",
   "nbconvert_exporter": "python",
   "file_extension": ".py"
  },
  "kernelspec": {
   "name": "python3",
   "display_name": "Python 3.9.5 64-bit ('tf2.5': conda)"
  },
  "interpreter": {
   "hash": "01b320e374bb0e9c71bdb57ca898167d128c846c10b4779fe2b1301cb538ef2f"
  }
 },
 "nbformat": 4,
 "nbformat_minor": 2
}