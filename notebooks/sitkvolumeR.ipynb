{
    "cells": [
        {
            "cell_type": "code",
            "execution_count": null,
            "source": [
                "import os, glob \n",
                "sys.path.append('../')\n",
                "\n",
                "import SimpleITK as sitk\n",
                "import numpy as np"
            ],
            "outputs": [],
            "metadata": {}
        },
        {
            "cell_type": "code",
            "execution_count": null,
            "source": [
                "src = '/Users/giuseppefilitto/Pazienti_anonym_sorted'\n",
                "\n",
                "patients = os.listdir(src)\n",
                "if '.DS_Store' in patients:\n",
                "    patients.remove('.DS_Store')\n",
                "print(f\"Number of patients: {len(patients)}\")"
            ],
            "outputs": [],
            "metadata": {}
        },
        {
            "cell_type": "code",
            "execution_count": null,
            "source": [
                "wanted = [ '_predicted', '_resized']\n",
                "unwanted = ['_3D']\n",
                "\n",
                "for patient in patients:\n",
                "\n",
                "    print(f'{patient}')\n",
                "    \n",
                "    try:\n",
                "        folders = glob.glob(src + '/' + patient + '/T2*')\n",
                "        folders = [x for x in folders if any(y in x for y in wanted) and all(h not in x for h in unwanted)]\n",
                "        assert len(folders) != 0\n",
                "\n",
                "    except:\n",
                "        folders = glob.glob(src + '/' + patient + '/t2*')\n",
                "        folders = [x for x in folders if any(y in x for y in wanted) and all(h not in x for h in unwanted)]\n",
                "\n",
                "    for path in folders:\n",
                "        folder_path = os.path.split(path)[0]\n",
                "        folder_name = os.path.split(path)[1]\n",
                "        print(f' folder: {folder_name}')\n",
                "\n",
                "        images = glob.glob(path + '/*.png')\n",
                "        \n",
                "        output_folder = '_'.join((path, '3D'))\n",
                "\n",
                "        if not os.path.exists(output_folder):\n",
                "            os.makedirs(output_folder)\n",
                "        \n",
                "        vect = np.zeros(shape=(len(images), 256, 256))\n",
                "        for k, i in enumerate(images):\n",
                "            im = sitk.ReadImage(i)\n",
                "            im_arr = sitk.GetArrayFromImage(im)\n",
                "            vect[k, ...] = im_arr\n",
                "\n",
                "        stack = sitk.GetImageFromArray(vect)\n",
                "\n",
                "        output_name = 'segmented.nrrd' if wanted[0] in folder_name else 'greyscale.nrrd'\n",
                "\n",
                "        output = os.path.join(output_folder, output_name)\n",
                "\n",
                "        if os.path.isfile(output):\n",
                "            os.remove(output)\n",
                "\n",
                "        sitk.WriteImage(stack, output)"
            ],
            "outputs": [],
            "metadata": {}
        }
    ],
    "metadata": {
        "orig_nbformat": 4,
        "language_info": {
            "name": "python"
        }
    },
    "nbformat": 4,
    "nbformat_minor": 2
}