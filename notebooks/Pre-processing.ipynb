{
 "cells": [
  {
   "cell_type": "markdown",
   "metadata": {},
   "source": [
    "# Pre-processing"
   ]
  },
  {
   "cell_type": "code",
   "execution_count": 1,
   "metadata": {},
   "outputs": [],
   "source": [
    "import sys, os, glob, shutil\n",
    "sys.path.append('../')\n",
    "\n",
    "from MRIsegm.utils import get_slice, get_slice_info, get_rois, explore_slice, explore_roi, make_mask, mask_slice\n",
    "from MRIsegm.processing import denoise_slice\n",
    "\n",
    "from PIL import Image\n",
    "from tqdm.notebook import trange\n",
    "\n"
   ]
  },
  {
   "cell_type": "markdown",
   "metadata": {},
   "source": [
    "## Loading Data"
   ]
  },
  {
   "cell_type": "code",
   "execution_count": 2,
   "metadata": {},
   "outputs": [
    {
     "name": "stdout",
     "output_type": "stream",
     "text": [
      "Number of good patients: 36\n"
     ]
    }
   ],
   "source": [
    "src = '/Users/giuseppefilitto/Pazienti_anonym_sorted'\n",
    "\n",
    "patients = os.listdir(src)\n",
    "if '.DS_Store' in patients:\n",
    "    patients.remove('.DS_Store')\n",
    "\n",
    "bad_patients = [ 'BO9', 'BO17', 'BO28', 'BO36', 'BO37', 'BO39', 'BO40', 'BO54', 'BO72', 'BO77', 'BO86']\n",
    "\n",
    "good_patients = list(set(patients) - set(bad_patients))\n",
    "\n",
    "# ! Removing for now \n",
    "good_patients.remove('BO38')\n",
    "print(\"Number of good patients:\",len(good_patients))"
   ]
  },
  {
   "cell_type": "markdown",
   "metadata": {},
   "source": [
    "## Saving Train and Test images"
   ]
  },
  {
   "cell_type": "markdown",
   "metadata": {},
   "source": [
    "### Training"
   ]
  },
  {
   "cell_type": "code",
   "execution_count": 3,
   "metadata": {},
   "outputs": [
    {
     "data": {
      "application/vnd.jupyter.widget-view+json": {
       "model_id": "c27d6f95af314aa19e6927c61d4fd8c0",
       "version_major": 2,
       "version_minor": 0
      },
      "text/plain": "Progress:   0%|          | 0/36 [00:00<?, ?it/s]"
     },
     "metadata": {},
     "output_type": "display_data"
    },
    {
     "name": "stdout",
     "output_type": "stream",
     "text": [
      "patient: BO32\n",
      "patient: BO90\n",
      "patient: BO51\n",
      "patient: BO49\n",
      "patient: BO47\n",
      "patient: BO26\n",
      "patient: BO71\n",
      "patient: BO43\n",
      "patient: BO29\n",
      "patient: BO31\n",
      "patient: BO61\n",
      "patient: BO18\n",
      "patient: BO75\n",
      "patient: BO44\n",
      "patient: BO68\n",
      "patient: BO56\n",
      "patient: BO63\n",
      "patient: BO11\n",
      "patient: BO33\n",
      "patient: BO85\n",
      "patient: BO48\n",
      "patient: BO66\n",
      "patient: BO82\n",
      "patient: BO50\n",
      "patient: BO64\n",
      "patient: BO76\n",
      "patient: BO16\n",
      "patient: BO45\n",
      "patient: BO2\n",
      "patient: BO1\n",
      "patient: BO52\n",
      "patient: BO42\n",
      "patient: BO74\n",
      "patient: BO60\n",
      "patient: BO35\n",
      "patient: BO78\n"
     ]
    }
   ],
   "source": [
    "progress_bar = trange(len(good_patients), desc=\"Progress\")\n",
    "for patient in good_patients:\n",
    "\n",
    "    #! slices\n",
    "    folder = 'T2'\n",
    "    slice_path = os.path.join(src, patient, folder)\n",
    "\n",
    "    if not os.path.isdir(slice_path):\n",
    "        slice_path =  slice_path + \"AX\"\n",
    "\n",
    "        if not os.path.isdir(slice_path):\n",
    "            slice_path = os.path.join(src, patient, 'T25mm')\n",
    "\n",
    "            if not os.path.isdir(slice_path):\n",
    "                slice_path = os.path.join(src, patient, 't2DEF')\n",
    "\n",
    "\n",
    "    slice_raw = get_slice(dir_path=slice_path)  \n",
    "\n",
    "    alpha = 5\n",
    "    slice = denoise_slice(slice_raw, alpha = alpha)\n",
    "\n",
    "    roi_folder = 'T2ROI'\n",
    "    roi_path = os.path.join(src, patient, roi_folder)\n",
    "\n",
    "    #! ROIS\n",
    "    roi = get_rois(roi_path=roi_path)\n",
    "    \n",
    "\n",
    "    #! slits of masks\n",
    "\n",
    "    slice_of_masks = mask_slice(slice=slice, rois=roi)\n",
    "    \n",
    "\n",
    "    positions = [roi[j].get('position') - 1 for j in range(len(roi))]\n",
    "\n",
    "    print(f'patient: {patient}' )\n",
    "    for i in set(positions):\n",
    "\n",
    "        img = Image.fromarray(slice[i, : ,:])\n",
    "        filename = patient + '_layer_' + str(i) + '.png'\n",
    "        dst = '../data/training/img/img'\n",
    "        output =  os.path.join(dst, filename)\n",
    "\n",
    "        if os.path.isfile(output):\n",
    "            os.remove(output)\n",
    "        \n",
    "        img.save(output)\n",
    "\n",
    "        mask = Image.fromarray(slice_of_masks[i, : ,:])\n",
    "        filename = patient + '_mask_' + str(i) + '.png'\n",
    "        dst = '../data/training/mask/img'\n",
    "        output =  os.path.join(dst, filename)\n",
    "        if os.path.isfile(output):\n",
    "            os.remove(output)\n",
    "\n",
    "        mask.save(output)\n",
    " \n",
    "    progress_bar.update(1)    \n",
    "\n",
    "progress_bar.close()    "
   ]
  },
  {
   "cell_type": "markdown",
   "metadata": {},
   "source": [
    "### Test"
   ]
  },
  {
   "cell_type": "code",
   "execution_count": 4,
   "metadata": {},
   "outputs": [
    {
     "name": "stdout",
     "output_type": "stream",
     "text": [
      "Training images: 376\n",
      "Test images: 93\n"
     ]
    }
   ],
   "source": [
    "train_dir = '../data/training/img/img'\n",
    "train_files = glob.glob(train_dir + '/*.png')\n",
    "\n",
    "mask_dir = '../data/training/mask/img'\n",
    "mask_files = glob.glob(mask_dir + '/*.png')\n",
    "\n",
    "\n",
    "\n",
    "# ! test\n",
    "test_dir = '../data/test/img/img'\n",
    "mask_test_dir = '../data/test/mask/img'\n",
    "\n",
    "n_test = int(len(train_files) * 0.2)\n",
    "print(\"Training images:\", len(train_files) - n_test)\n",
    "print(\"Test images:\", n_test)\n"
   ]
  },
  {
   "cell_type": "code",
   "execution_count": 5,
   "metadata": {},
   "outputs": [],
   "source": [
    "for i in range(0,n_test + 1):\n",
    "    \n",
    "    dir, file = os.path.split(train_files[i])\n",
    "    test_img = os.path.join(test_dir, file)\n",
    "\n",
    "    img = train_files[i]\n",
    "    if os.path.isfile(test_img):\n",
    "        os.remove(test_img)\n",
    "\n",
    "    shutil.move(img, test_img)\n",
    "\n",
    "    mask_dir = '../data/training/mask/img'\n",
    "    mask_file = file.replace('_layer_','_mask_')\n",
    "    \n",
    "    mask = os.path.join(mask_dir, mask_file)\n",
    "    mask_test = os.path.join(mask_test_dir, file)\n",
    "    if os.path.isfile(mask_test):\n",
    "        os.remove(mask_test)\n",
    "\n",
    "    shutil.move(mask, mask_test)"
   ]
  }
 ],
 "metadata": {
  "kernelspec": {
   "display_name": "Python 3.9.1 64-bit ('base': conda)",
   "name": "python391jvsc74a57bd0b006050eb1e698e71d69e874d7b73cfc81eadd7038d8c48e3a55c8dc4f112791"
  },
  "language_info": {
   "codemirror_mode": {
    "name": "ipython",
    "version": 3
   },
   "file_extension": ".py",
   "mimetype": "text/x-python",
   "name": "python",
   "nbconvert_exporter": "python",
   "pygments_lexer": "ipython3",
   "version": "3.9.1"
  },
  "metadata": {
   "interpreter": {
    "hash": "b006050eb1e698e71d69e874d7b73cfc81eadd7038d8c48e3a55c8dc4f112791"
   }
  },
  "orig_nbformat": 2
 },
 "nbformat": 4,
 "nbformat_minor": 2
}