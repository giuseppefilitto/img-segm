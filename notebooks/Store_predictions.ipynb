{
 "cells": [
  {
   "cell_type": "code",
   "execution_count": 1,
   "source": [
    "import sys, os, glob\n",
    "sys.path.append('../')\n",
    "\n",
    "import tensorflow as tf\n",
    "import numpy as np\n",
    "\n",
    "from MRIsegm.utils import get_slices\n",
    "from MRIsegm.processing import denoise_slices, predict_slices, resize_slices, contour_slices\n",
    "from MRIsegm.metrics import dice_coef\n",
    "from MRIsegm.losses import DiceBCEloss\n",
    "\n",
    "from PIL import Image"
   ],
   "outputs": [],
   "metadata": {}
  },
  {
   "cell_type": "code",
   "execution_count": 2,
   "source": [
    "IMAGE_HEIGHT = 256\n",
    "IMAGE_WIDTH = 256\n",
    "IMG_SIZE = (IMAGE_HEIGHT, IMAGE_WIDTH)"
   ],
   "outputs": [],
   "metadata": {}
  },
  {
   "cell_type": "code",
   "execution_count": 3,
   "source": [
    "models_dir = '../data/models/'\n",
    "model_name = 'efficientnetb0_256_256_BTC=8_alpha3_OPT=Adam_LOSS=DiceBCEloss'\n",
    "model_path = os.path.join(models_dir, model_name + '.h5')\n",
    "\n",
    "dependencies = {\n",
    "        'DiceBCEloss': DiceBCEloss,\n",
    "        'dice_coef': dice_coef,\n",
    "        'FixedDropout': tf.keras.layers.Dropout(0.2)\n",
    "    }\n",
    "\n",
    "model = tf.keras.models.load_model(model_path, custom_objects=dependencies)"
   ],
   "outputs": [],
   "metadata": {}
  },
  {
   "cell_type": "code",
   "execution_count": 4,
   "source": [
    "src = '/Users/giuseppefilitto/Pazienti_anonym_sorted'\n",
    "\n",
    "patients = os.listdir(src)\n",
    "if '.DS_Store' in patients:\n",
    "    patients.remove('.DS_Store')\n",
    "print(f\"Number of patients: {len(patients)}\")"
   ],
   "outputs": [
    {
     "output_type": "stream",
     "name": "stdout",
     "text": [
      "Number of patients: 48\n"
     ]
    }
   ],
   "metadata": {}
  },
  {
   "cell_type": "code",
   "execution_count": 6,
   "source": [
    "alpha = 3\n",
    "\n",
    "unwanted = ['ROI', '_frames', 'bis', '_predicted', '_resized', '_countured']\n",
    "\n",
    "for patient in patients:\n",
    "\n",
    "    print(f'{patient}')\n",
    "    try:\n",
    "        folders=glob.glob(src + '/' + patient + '/T2*')\n",
    "        folders = [x for x in folders if all(y not in x for y in unwanted)]\n",
    "        assert len(folders) != 0\n",
    "    except:\n",
    "        folders=glob.glob(src + '/' + patient + '/t2*')\n",
    "        folders = [x for x in folders if all(y not in x for y in unwanted)]\n",
    "\n",
    "\n",
    "\n",
    "    for path in folders:\n",
    "        folder_name = os.path.split(path)[1]\n",
    "        print(f' folder: {folder_name}')\n",
    "        slices_raw = get_slices(dir_path=path)\n",
    "        slices = denoise_slices(slices_raw, alpha = alpha)\n",
    "\n",
    "        predicted_ = predict_slices(slices, model, IMAGE_HEIGHT, IMAGE_WIDTH)\n",
    "        predicted = np.squeeze(predicted_, axis=-1)\n",
    "\n",
    "\n",
    "        predicted_folder = '_'.join((path, 'predicted'))\n",
    "        if not os.path.exists(predicted_folder):\n",
    "            os.makedirs(predicted_folder)\n",
    "\n",
    "        for i in range(predicted.shape[0]):\n",
    "            \n",
    "            img = Image.fromarray(predicted[i, ...]*255).convert('L')\n",
    "            filename = str(i + 1) + '.png'\n",
    "            output =  os.path.join(predicted_folder, filename)\n",
    "            if os.path.isfile(output):\n",
    "                os.remove(output)\n",
    "            \n",
    "            img.save(output)\n",
    "    \n",
    "    \n",
    "        resized_ = resize_slices(slices, IMAGE_HEIGHT, IMAGE_WIDTH)\n",
    "        resized = np.squeeze(resized_, axis=-1)\n",
    "\n",
    "        resized_folder = '_'.join((path, 'resized'))\n",
    "        if not os.path.exists(resized_folder):\n",
    "            os.makedirs(resized_folder)\n",
    "\n",
    "        \n",
    "        for k in range(resized.shape[0]):\n",
    "\n",
    "            img = Image.fromarray(resized[k, ...]*255).convert('L')\n",
    "            filename = str(k + 1) + '.png'\n",
    "            output =  os.path.join(resized_folder, filename)\n",
    "\n",
    "            if os.path.isfile(output):\n",
    "                os.remove(output)\n",
    "            \n",
    "            img.save(output)\n",
    "            \n",
    "\n",
    "        countured = contour_slices(resized_, predicted_)\n",
    "\n",
    "        countured_folder = '_'.join((path, 'countured'))\n",
    "        if not os.path.exists(countured_folder):\n",
    "            os.makedirs(countured_folder)\n",
    "\n",
    "\n",
    "        for z in range(countured.shape[0]):\n",
    "\n",
    "            img = Image.fromarray(countured[z, ...], mode='RGB')\n",
    "            filename = str(z + 1) + '.png'\n",
    "            output =  os.path.join(countured_folder, filename)\n",
    "\n",
    "            if os.path.isfile(output):\n",
    "                os.remove(output)\n",
    "            \n",
    "            img.save(output)\n",
    "    "
   ],
   "outputs": [
    {
     "output_type": "stream",
     "name": "stdout",
     "text": [
      "BO77\n",
      " folder: T2\n",
      " folder: T2_countured\n"
     ]
    },
    {
     "output_type": "error",
     "ename": "ValueError",
     "evalue": "max() arg is an empty sequence",
     "traceback": [
      "\u001b[0;31m---------------------------------------------------------------------------\u001b[0m",
      "\u001b[0;31mValueError\u001b[0m                                Traceback (most recent call last)",
      "\u001b[0;32m<ipython-input-6-ef753388c171>\u001b[0m in \u001b[0;36m<module>\u001b[0;34m\u001b[0m\n\u001b[1;32m     19\u001b[0m         \u001b[0mfolder_name\u001b[0m \u001b[0;34m=\u001b[0m \u001b[0mos\u001b[0m\u001b[0;34m.\u001b[0m\u001b[0mpath\u001b[0m\u001b[0;34m.\u001b[0m\u001b[0msplit\u001b[0m\u001b[0;34m(\u001b[0m\u001b[0mpath\u001b[0m\u001b[0;34m)\u001b[0m\u001b[0;34m[\u001b[0m\u001b[0;36m1\u001b[0m\u001b[0;34m]\u001b[0m\u001b[0;34m\u001b[0m\u001b[0;34m\u001b[0m\u001b[0m\n\u001b[1;32m     20\u001b[0m         \u001b[0mprint\u001b[0m\u001b[0;34m(\u001b[0m\u001b[0;34mf' folder: {folder_name}'\u001b[0m\u001b[0;34m)\u001b[0m\u001b[0;34m\u001b[0m\u001b[0;34m\u001b[0m\u001b[0m\n\u001b[0;32m---> 21\u001b[0;31m         \u001b[0mslices_raw\u001b[0m \u001b[0;34m=\u001b[0m \u001b[0mget_slices\u001b[0m\u001b[0;34m(\u001b[0m\u001b[0mdir_path\u001b[0m\u001b[0;34m=\u001b[0m\u001b[0mpath\u001b[0m\u001b[0;34m)\u001b[0m\u001b[0;34m\u001b[0m\u001b[0;34m\u001b[0m\u001b[0m\n\u001b[0m\u001b[1;32m     22\u001b[0m         \u001b[0mslices\u001b[0m \u001b[0;34m=\u001b[0m \u001b[0mdenoise_slices\u001b[0m\u001b[0;34m(\u001b[0m\u001b[0mslices_raw\u001b[0m\u001b[0;34m,\u001b[0m \u001b[0malpha\u001b[0m \u001b[0;34m=\u001b[0m \u001b[0malpha\u001b[0m\u001b[0;34m)\u001b[0m\u001b[0;34m\u001b[0m\u001b[0;34m\u001b[0m\u001b[0m\n\u001b[1;32m     23\u001b[0m \u001b[0;34m\u001b[0m\u001b[0m\n",
      "\u001b[0;32m~/img-segm/notebooks/../MRIsegm/utils.py\u001b[0m in \u001b[0;36mget_slices\u001b[0;34m(dir_path)\u001b[0m\n\u001b[1;32m     89\u001b[0m     \u001b[0mslices\u001b[0m \u001b[0;34m=\u001b[0m \u001b[0;34m[\u001b[0m\u001b[0mread_slices\u001b[0m\u001b[0;34m(\u001b[0m\u001b[0mf\u001b[0m\u001b[0;34m)\u001b[0m \u001b[0;32mfor\u001b[0m \u001b[0mf\u001b[0m \u001b[0;32min\u001b[0m \u001b[0mfiles\u001b[0m\u001b[0;34m]\u001b[0m\u001b[0;34m\u001b[0m\u001b[0;34m\u001b[0m\u001b[0m\n\u001b[1;32m     90\u001b[0m \u001b[0;34m\u001b[0m\u001b[0m\n\u001b[0;32m---> 91\u001b[0;31m     \u001b[0mMax\u001b[0m \u001b[0;34m=\u001b[0m \u001b[0mmax\u001b[0m\u001b[0;34m(\u001b[0m\u001b[0;34m[\u001b[0m\u001b[0mx\u001b[0m\u001b[0;34m.\u001b[0m\u001b[0mmax\u001b[0m\u001b[0;34m(\u001b[0m\u001b[0;34m)\u001b[0m \u001b[0;32mfor\u001b[0m \u001b[0mx\u001b[0m \u001b[0;32min\u001b[0m \u001b[0mslices\u001b[0m\u001b[0;34m]\u001b[0m\u001b[0;34m)\u001b[0m\u001b[0;34m\u001b[0m\u001b[0;34m\u001b[0m\u001b[0m\n\u001b[0m\u001b[1;32m     92\u001b[0m     \u001b[0mMin\u001b[0m \u001b[0;34m=\u001b[0m \u001b[0mmin\u001b[0m\u001b[0;34m(\u001b[0m\u001b[0;34m[\u001b[0m\u001b[0mx\u001b[0m\u001b[0;34m.\u001b[0m\u001b[0mmin\u001b[0m\u001b[0;34m(\u001b[0m\u001b[0;34m)\u001b[0m \u001b[0;32mfor\u001b[0m \u001b[0mx\u001b[0m \u001b[0;32min\u001b[0m \u001b[0mslices\u001b[0m\u001b[0;34m]\u001b[0m\u001b[0;34m)\u001b[0m\u001b[0;34m\u001b[0m\u001b[0;34m\u001b[0m\u001b[0m\n\u001b[1;32m     93\u001b[0m \u001b[0;34m\u001b[0m\u001b[0m\n",
      "\u001b[0;31mValueError\u001b[0m: max() arg is an empty sequence"
     ]
    }
   ],
   "metadata": {}
  }
 ],
 "metadata": {
  "kernelspec": {
   "display_name": "Python 3",
   "language": "python",
   "name": "python3"
  },
  "language_info": {
   "codemirror_mode": {
    "name": "ipython",
    "version": 3
   },
   "file_extension": ".py",
   "mimetype": "text/x-python",
   "name": "python",
   "nbconvert_exporter": "python",
   "pygments_lexer": "ipython3",
   "version": "3.9.5"
  }
 },
 "nbformat": 4,
 "nbformat_minor": 2
}